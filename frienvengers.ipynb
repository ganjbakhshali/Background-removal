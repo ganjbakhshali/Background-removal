{
 "cells": [
  {
   "cell_type": "code",
   "execution_count": 2,
   "metadata": {},
   "outputs": [],
   "source": [
    "import requests\n",
    "import pickle\n",
    "import numpy as np\n",
    "import cv2\n",
    "import matplotlib.pyplot as plt"
   ]
  },
  {
   "cell_type": "code",
   "execution_count": 2,
   "metadata": {},
   "outputs": [],
   "source": [
    "cap1 = cv2.VideoCapture('Videos/friends.avi') #friends_video "
   ]
  },
  {
   "cell_type": "code",
   "execution_count": 3,
   "metadata": {},
   "outputs": [],
   "source": [
    "cap2 = cv2.VideoCapture('Videos/avengers.avi')#avengers_video"
   ]
  },
  {
   "cell_type": "code",
   "execution_count": 4,
   "metadata": {},
   "outputs": [],
   "source": [
    "fourcc = cv2.VideoWriter_fourcc(*'XVID')\n",
    "writer = cv2.VideoWriter(f'Videos/frienvengers_using_detectron.avi', fourcc, 25.0, (360,240)) #output video"
   ]
  },
  {
   "cell_type": "code",
   "execution_count": null,
   "metadata": {
    "scrolled": true
   },
   "outputs": [],
   "source": [
    "ret1,org_fr = cap1.read()\n",
    "ret2,new_bg = cap2.read()\n",
    "\n",
    "count = 0\n",
    "while(ret1 and ret2):\n",
    "    print(count)\n",
    "    \n",
    "    org_fr = cv2.resize(org_fr,(360,240))[:,:,::-1]\n",
    "    new_bg = cv2.resize(new_bg,(360,240))[:,:,::-1]\n",
    "    response = requests.post('http://127.0.0.1:5000/with_bg',json={'image':org_fr.tolist(),'bg':new_bg.tolist()})\n",
    "    combined = np.array(response.json()['output'])\n",
    "    count+=1\n",
    "    ret1,org_fr = cap1.read()\n",
    "    ret2,new_bg = cap2.read()\n",
    "    writer.write(combined[:,:,::-1].astype('uint8'))"
   ]
  },
  {
   "cell_type": "code",
   "execution_count": null,
   "metadata": {},
   "outputs": [],
   "source": []
  }
 ],
 "metadata": {
  "kernelspec": {
   "display_name": "Python [conda env:Fba_matting]",
   "language": "python",
   "name": "conda-env-Fba_matting-py"
  },
  "language_info": {
   "codemirror_mode": {
    "name": "ipython",
    "version": 3
   },
   "file_extension": ".py",
   "mimetype": "text/x-python",
   "name": "python",
   "nbconvert_exporter": "python",
   "pygments_lexer": "ipython3",
   "version": "3.7.7"
  }
 },
 "nbformat": 4,
 "nbformat_minor": 4
}
